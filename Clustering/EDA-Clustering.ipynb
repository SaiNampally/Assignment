{
 "cells": [
  {
   "cell_type": "code",
   "execution_count": 1,
   "metadata": {
    "collapsed": false
   },
   "outputs": [
    {
     "data": {
      "text/plain": [
       "'F:\\\\Assignment\\\\Data'"
      ]
     },
     "execution_count": 1,
     "metadata": {},
     "output_type": "execute_result"
    }
   ],
   "source": [
    "import pandas as pd\n",
    "import numpy as np\n",
    "import os\n",
    "os.chdir(\"F:\\\\Assignment\\\\Data\")\n",
    "os.getcwd()"
   ]
  },
  {
   "cell_type": "code",
   "execution_count": 3,
   "metadata": {
    "collapsed": false
   },
   "outputs": [
    {
     "data": {
      "text/html": [
       "<div>\n",
       "<table border=\"1\" class=\"dataframe\">\n",
       "  <thead>\n",
       "    <tr style=\"text-align: right;\">\n",
       "      <th></th>\n",
       "      <th>ProductID</th>\n",
       "      <th>MakeFlag</th>\n",
       "      <th>FinishedGoodsFlag</th>\n",
       "      <th>SafetyStockLevel</th>\n",
       "      <th>ReorderPoint</th>\n",
       "      <th>StandardCost</th>\n",
       "      <th>ListPrice</th>\n",
       "      <th>Weight</th>\n",
       "      <th>DaysToManufacture</th>\n",
       "      <th>ProductSubcategoryID</th>\n",
       "      <th>ProductModelID</th>\n",
       "      <th>ProductCategoryID</th>\n",
       "      <th>TotalUnitPrice</th>\n",
       "      <th>TotalUnitPriceDiscount</th>\n",
       "    </tr>\n",
       "  </thead>\n",
       "  <tbody>\n",
       "    <tr>\n",
       "      <th>count</th>\n",
       "      <td>504.000000</td>\n",
       "      <td>504.000000</td>\n",
       "      <td>504.000000</td>\n",
       "      <td>504.000000</td>\n",
       "      <td>504.000000</td>\n",
       "      <td>504.000000</td>\n",
       "      <td>504.000000</td>\n",
       "      <td>205.000000</td>\n",
       "      <td>504.000000</td>\n",
       "      <td>295.000000</td>\n",
       "      <td>295.000000</td>\n",
       "      <td>295.000000</td>\n",
       "      <td>2.660000e+02</td>\n",
       "      <td>266.00000</td>\n",
       "    </tr>\n",
       "    <tr>\n",
       "      <th>mean</th>\n",
       "      <td>673.039683</td>\n",
       "      <td>0.474206</td>\n",
       "      <td>0.585317</td>\n",
       "      <td>535.150794</td>\n",
       "      <td>401.363095</td>\n",
       "      <td>258.602961</td>\n",
       "      <td>438.666250</td>\n",
       "      <td>74.069220</td>\n",
       "      <td>1.103175</td>\n",
       "      <td>12.294915</td>\n",
       "      <td>37.444068</td>\n",
       "      <td>1.986441</td>\n",
       "      <td>2.121194e+05</td>\n",
       "      <td>1.28891</td>\n",
       "    </tr>\n",
       "    <tr>\n",
       "      <th>std</th>\n",
       "      <td>229.373142</td>\n",
       "      <td>0.499830</td>\n",
       "      <td>0.493157</td>\n",
       "      <td>374.112954</td>\n",
       "      <td>280.584715</td>\n",
       "      <td>461.632808</td>\n",
       "      <td>773.602843</td>\n",
       "      <td>182.166588</td>\n",
       "      <td>1.492616</td>\n",
       "      <td>9.860135</td>\n",
       "      <td>34.025442</td>\n",
       "      <td>0.918342</td>\n",
       "      <td>3.913986e+05</td>\n",
       "      <td>3.21191</td>\n",
       "    </tr>\n",
       "    <tr>\n",
       "      <th>min</th>\n",
       "      <td>1.000000</td>\n",
       "      <td>0.000000</td>\n",
       "      <td>0.000000</td>\n",
       "      <td>4.000000</td>\n",
       "      <td>3.000000</td>\n",
       "      <td>0.000000</td>\n",
       "      <td>0.000000</td>\n",
       "      <td>2.120000</td>\n",
       "      <td>0.000000</td>\n",
       "      <td>1.000000</td>\n",
       "      <td>1.000000</td>\n",
       "      <td>1.000000</td>\n",
       "      <td>9.763200e+01</td>\n",
       "      <td>0.00000</td>\n",
       "    </tr>\n",
       "    <tr>\n",
       "      <th>25%</th>\n",
       "      <td>447.750000</td>\n",
       "      <td>0.000000</td>\n",
       "      <td>0.000000</td>\n",
       "      <td>100.000000</td>\n",
       "      <td>75.000000</td>\n",
       "      <td>0.000000</td>\n",
       "      <td>0.000000</td>\n",
       "      <td>2.880000</td>\n",
       "      <td>0.000000</td>\n",
       "      <td>2.000000</td>\n",
       "      <td>11.000000</td>\n",
       "      <td>1.000000</td>\n",
       "      <td>1.444097e+04</td>\n",
       "      <td>0.00000</td>\n",
       "    </tr>\n",
       "    <tr>\n",
       "      <th>50%</th>\n",
       "      <td>747.500000</td>\n",
       "      <td>0.000000</td>\n",
       "      <td>1.000000</td>\n",
       "      <td>500.000000</td>\n",
       "      <td>375.000000</td>\n",
       "      <td>23.372200</td>\n",
       "      <td>49.990000</td>\n",
       "      <td>17.900000</td>\n",
       "      <td>1.000000</td>\n",
       "      <td>12.000000</td>\n",
       "      <td>26.000000</td>\n",
       "      <td>2.000000</td>\n",
       "      <td>4.695572e+04</td>\n",
       "      <td>0.00000</td>\n",
       "    </tr>\n",
       "    <tr>\n",
       "      <th>75%</th>\n",
       "      <td>873.250000</td>\n",
       "      <td>1.000000</td>\n",
       "      <td>1.000000</td>\n",
       "      <td>1000.000000</td>\n",
       "      <td>750.000000</td>\n",
       "      <td>317.075825</td>\n",
       "      <td>564.990000</td>\n",
       "      <td>27.350000</td>\n",
       "      <td>1.000000</td>\n",
       "      <td>17.000000</td>\n",
       "      <td>48.500000</td>\n",
       "      <td>2.000000</td>\n",
       "      <td>1.914596e+05</td>\n",
       "      <td>0.25500</td>\n",
       "    </tr>\n",
       "    <tr>\n",
       "      <th>max</th>\n",
       "      <td>999.000000</td>\n",
       "      <td>1.000000</td>\n",
       "      <td>1.000000</td>\n",
       "      <td>1000.000000</td>\n",
       "      <td>750.000000</td>\n",
       "      <td>2171.294200</td>\n",
       "      <td>3578.270000</td>\n",
       "      <td>1050.000000</td>\n",
       "      <td>4.000000</td>\n",
       "      <td>37.000000</td>\n",
       "      <td>128.000000</td>\n",
       "      <td>4.000000</td>\n",
       "      <td>2.166146e+06</td>\n",
       "      <td>18.80000</td>\n",
       "    </tr>\n",
       "  </tbody>\n",
       "</table>\n",
       "</div>"
      ],
      "text/plain": [
       "        ProductID    MakeFlag  FinishedGoodsFlag  SafetyStockLevel  \\\n",
       "count  504.000000  504.000000         504.000000        504.000000   \n",
       "mean   673.039683    0.474206           0.585317        535.150794   \n",
       "std    229.373142    0.499830           0.493157        374.112954   \n",
       "min      1.000000    0.000000           0.000000          4.000000   \n",
       "25%    447.750000    0.000000           0.000000        100.000000   \n",
       "50%    747.500000    0.000000           1.000000        500.000000   \n",
       "75%    873.250000    1.000000           1.000000       1000.000000   \n",
       "max    999.000000    1.000000           1.000000       1000.000000   \n",
       "\n",
       "       ReorderPoint  StandardCost    ListPrice       Weight  \\\n",
       "count    504.000000    504.000000   504.000000   205.000000   \n",
       "mean     401.363095    258.602961   438.666250    74.069220   \n",
       "std      280.584715    461.632808   773.602843   182.166588   \n",
       "min        3.000000      0.000000     0.000000     2.120000   \n",
       "25%       75.000000      0.000000     0.000000     2.880000   \n",
       "50%      375.000000     23.372200    49.990000    17.900000   \n",
       "75%      750.000000    317.075825   564.990000    27.350000   \n",
       "max      750.000000   2171.294200  3578.270000  1050.000000   \n",
       "\n",
       "       DaysToManufacture  ProductSubcategoryID  ProductModelID  \\\n",
       "count         504.000000            295.000000      295.000000   \n",
       "mean            1.103175             12.294915       37.444068   \n",
       "std             1.492616              9.860135       34.025442   \n",
       "min             0.000000              1.000000        1.000000   \n",
       "25%             0.000000              2.000000       11.000000   \n",
       "50%             1.000000             12.000000       26.000000   \n",
       "75%             1.000000             17.000000       48.500000   \n",
       "max             4.000000             37.000000      128.000000   \n",
       "\n",
       "       ProductCategoryID  TotalUnitPrice  TotalUnitPriceDiscount  \n",
       "count         295.000000    2.660000e+02               266.00000  \n",
       "mean            1.986441    2.121194e+05                 1.28891  \n",
       "std             0.918342    3.913986e+05                 3.21191  \n",
       "min             1.000000    9.763200e+01                 0.00000  \n",
       "25%             1.000000    1.444097e+04                 0.00000  \n",
       "50%             2.000000    4.695572e+04                 0.00000  \n",
       "75%             2.000000    1.914596e+05                 0.25500  \n",
       "max             4.000000    2.166146e+06                18.80000  "
      ]
     },
     "execution_count": 3,
     "metadata": {},
     "output_type": "execute_result"
    }
   ],
   "source": [
    "data1 = pd.read_csv(\"Data.csv\")\n",
    "data = data1\n",
    "data.describe()"
   ]
  },
  {
   "cell_type": "code",
   "execution_count": 4,
   "metadata": {
    "collapsed": false
   },
   "outputs": [
    {
     "data": {
      "text/html": [
       "<div>\n",
       "<table border=\"1\" class=\"dataframe\">\n",
       "  <thead>\n",
       "    <tr style=\"text-align: right;\">\n",
       "      <th></th>\n",
       "      <th>ProductID</th>\n",
       "      <th>Name</th>\n",
       "      <th>ProductNumber</th>\n",
       "      <th>MakeFlag</th>\n",
       "      <th>FinishedGoodsFlag</th>\n",
       "      <th>Color</th>\n",
       "      <th>SafetyStockLevel</th>\n",
       "      <th>ReorderPoint</th>\n",
       "      <th>StandardCost</th>\n",
       "      <th>ListPrice</th>\n",
       "      <th>...</th>\n",
       "      <th>DaysToManufacture</th>\n",
       "      <th>ProductLine</th>\n",
       "      <th>Class</th>\n",
       "      <th>Style</th>\n",
       "      <th>ProductSubcategoryID</th>\n",
       "      <th>ProductModelID</th>\n",
       "      <th>ProductCategoryID</th>\n",
       "      <th>ProductCategory</th>\n",
       "      <th>TotalUnitPrice</th>\n",
       "      <th>TotalUnitPriceDiscount</th>\n",
       "    </tr>\n",
       "  </thead>\n",
       "  <tbody>\n",
       "    <tr>\n",
       "      <th>0</th>\n",
       "      <td>1</td>\n",
       "      <td>Adjustable Race</td>\n",
       "      <td>AR-5381</td>\n",
       "      <td>0</td>\n",
       "      <td>0</td>\n",
       "      <td>NaN</td>\n",
       "      <td>1000</td>\n",
       "      <td>750</td>\n",
       "      <td>0.0</td>\n",
       "      <td>0.0</td>\n",
       "      <td>...</td>\n",
       "      <td>0</td>\n",
       "      <td>NaN</td>\n",
       "      <td>NaN</td>\n",
       "      <td>NaN</td>\n",
       "      <td>NaN</td>\n",
       "      <td>NaN</td>\n",
       "      <td>NaN</td>\n",
       "      <td>NaN</td>\n",
       "      <td>NaN</td>\n",
       "      <td>NaN</td>\n",
       "    </tr>\n",
       "    <tr>\n",
       "      <th>1</th>\n",
       "      <td>2</td>\n",
       "      <td>Bearing Ball</td>\n",
       "      <td>BA-8327</td>\n",
       "      <td>0</td>\n",
       "      <td>0</td>\n",
       "      <td>NaN</td>\n",
       "      <td>1000</td>\n",
       "      <td>750</td>\n",
       "      <td>0.0</td>\n",
       "      <td>0.0</td>\n",
       "      <td>...</td>\n",
       "      <td>0</td>\n",
       "      <td>NaN</td>\n",
       "      <td>NaN</td>\n",
       "      <td>NaN</td>\n",
       "      <td>NaN</td>\n",
       "      <td>NaN</td>\n",
       "      <td>NaN</td>\n",
       "      <td>NaN</td>\n",
       "      <td>NaN</td>\n",
       "      <td>NaN</td>\n",
       "    </tr>\n",
       "    <tr>\n",
       "      <th>2</th>\n",
       "      <td>3</td>\n",
       "      <td>BB Ball Bearing</td>\n",
       "      <td>BE-2349</td>\n",
       "      <td>1</td>\n",
       "      <td>0</td>\n",
       "      <td>NaN</td>\n",
       "      <td>800</td>\n",
       "      <td>600</td>\n",
       "      <td>0.0</td>\n",
       "      <td>0.0</td>\n",
       "      <td>...</td>\n",
       "      <td>1</td>\n",
       "      <td>NaN</td>\n",
       "      <td>NaN</td>\n",
       "      <td>NaN</td>\n",
       "      <td>NaN</td>\n",
       "      <td>NaN</td>\n",
       "      <td>NaN</td>\n",
       "      <td>NaN</td>\n",
       "      <td>NaN</td>\n",
       "      <td>NaN</td>\n",
       "    </tr>\n",
       "    <tr>\n",
       "      <th>3</th>\n",
       "      <td>4</td>\n",
       "      <td>Headset Ball Bearings</td>\n",
       "      <td>BE-2908</td>\n",
       "      <td>0</td>\n",
       "      <td>0</td>\n",
       "      <td>NaN</td>\n",
       "      <td>800</td>\n",
       "      <td>600</td>\n",
       "      <td>0.0</td>\n",
       "      <td>0.0</td>\n",
       "      <td>...</td>\n",
       "      <td>0</td>\n",
       "      <td>NaN</td>\n",
       "      <td>NaN</td>\n",
       "      <td>NaN</td>\n",
       "      <td>NaN</td>\n",
       "      <td>NaN</td>\n",
       "      <td>NaN</td>\n",
       "      <td>NaN</td>\n",
       "      <td>NaN</td>\n",
       "      <td>NaN</td>\n",
       "    </tr>\n",
       "    <tr>\n",
       "      <th>4</th>\n",
       "      <td>316</td>\n",
       "      <td>Blade</td>\n",
       "      <td>BL-2036</td>\n",
       "      <td>1</td>\n",
       "      <td>0</td>\n",
       "      <td>NaN</td>\n",
       "      <td>800</td>\n",
       "      <td>600</td>\n",
       "      <td>0.0</td>\n",
       "      <td>0.0</td>\n",
       "      <td>...</td>\n",
       "      <td>1</td>\n",
       "      <td>NaN</td>\n",
       "      <td>NaN</td>\n",
       "      <td>NaN</td>\n",
       "      <td>NaN</td>\n",
       "      <td>NaN</td>\n",
       "      <td>NaN</td>\n",
       "      <td>NaN</td>\n",
       "      <td>NaN</td>\n",
       "      <td>NaN</td>\n",
       "    </tr>\n",
       "  </tbody>\n",
       "</table>\n",
       "<p>5 rows × 24 columns</p>\n",
       "</div>"
      ],
      "text/plain": [
       "   ProductID                   Name ProductNumber  MakeFlag  \\\n",
       "0          1        Adjustable Race       AR-5381         0   \n",
       "1          2           Bearing Ball       BA-8327         0   \n",
       "2          3        BB Ball Bearing       BE-2349         1   \n",
       "3          4  Headset Ball Bearings       BE-2908         0   \n",
       "4        316                  Blade       BL-2036         1   \n",
       "\n",
       "   FinishedGoodsFlag Color  SafetyStockLevel  ReorderPoint  StandardCost  \\\n",
       "0                  0   NaN              1000           750           0.0   \n",
       "1                  0   NaN              1000           750           0.0   \n",
       "2                  0   NaN               800           600           0.0   \n",
       "3                  0   NaN               800           600           0.0   \n",
       "4                  0   NaN               800           600           0.0   \n",
       "\n",
       "   ListPrice           ...           DaysToManufacture ProductLine Class  \\\n",
       "0        0.0           ...                           0         NaN   NaN   \n",
       "1        0.0           ...                           0         NaN   NaN   \n",
       "2        0.0           ...                           1         NaN   NaN   \n",
       "3        0.0           ...                           0         NaN   NaN   \n",
       "4        0.0           ...                           1         NaN   NaN   \n",
       "\n",
       "   Style  ProductSubcategoryID ProductModelID ProductCategoryID  \\\n",
       "0    NaN                   NaN            NaN               NaN   \n",
       "1    NaN                   NaN            NaN               NaN   \n",
       "2    NaN                   NaN            NaN               NaN   \n",
       "3    NaN                   NaN            NaN               NaN   \n",
       "4    NaN                   NaN            NaN               NaN   \n",
       "\n",
       "  ProductCategory  TotalUnitPrice  TotalUnitPriceDiscount  \n",
       "0             NaN             NaN                     NaN  \n",
       "1             NaN             NaN                     NaN  \n",
       "2             NaN             NaN                     NaN  \n",
       "3             NaN             NaN                     NaN  \n",
       "4             NaN             NaN                     NaN  \n",
       "\n",
       "[5 rows x 24 columns]"
      ]
     },
     "execution_count": 4,
     "metadata": {},
     "output_type": "execute_result"
    }
   ],
   "source": [
    "data.head()"
   ]
  },
  {
   "cell_type": "code",
   "execution_count": 5,
   "metadata": {
    "collapsed": false
   },
   "outputs": [],
   "source": [
    "data = data.drop(labels=[\"Name\",\"ProductID\"],axis=1)"
   ]
  },
  {
   "cell_type": "code",
   "execution_count": 73,
   "metadata": {
    "collapsed": false
   },
   "outputs": [
    {
     "name": "stdout",
     "output_type": "stream",
     "text": [
      "2\n",
      "0    265\n",
      "1    239\n",
      "Name: MakeFlag, dtype: int64\n",
      "265 products are purchased and 239 products are manufactured in-house\n",
      "______________________________________________\n",
      "2\n",
      "1    295\n",
      "0    209\n",
      "Name: FinishedGoodsFlag, dtype: int64\n",
      "209 products are not salable and 295 are slable\n",
      "_______________________________________________\n",
      "Color and Number of products\n",
      "9\n",
      "Black           93\n",
      "Silver          43\n",
      "Red             38\n",
      "Yellow          36\n",
      "Blue            26\n",
      "Multi            8\n",
      "Silver/Black     7\n",
      "White            4\n",
      "Grey             1\n",
      "Name: Color, dtype: int64\n",
      "_______________________________________________\n",
      "Minimum Inventory quantity\n",
      "6\n",
      "500     167\n",
      "1000    156\n",
      "100      97\n",
      "4        54\n",
      "800      25\n",
      "60        5\n",
      "Name: SafetyStockLevel, dtype: int64\n",
      "With this I can infer that popular products have high invetory over less popular\n",
      "________________________________________________\n",
      "Inventory level that triggers a purchase order or work order.\n",
      "6\n",
      "375    167\n",
      "750    156\n",
      "75      97\n",
      "3       54\n",
      "600     25\n",
      "45       5\n",
      "Name: ReorderPoint, dtype: int64\n",
      "-------------------------------\n"
     ]
    }
   ],
   "source": [
    "print data.MakeFlag.nunique()\n",
    "print data.MakeFlag.value_counts()\n",
    "print \"265 products are purchased and 239 products are manufactured in-house\"\n",
    "print \"______________________________________________\"\n",
    "print data.FinishedGoodsFlag.nunique()\n",
    "print data.FinishedGoodsFlag.value_counts()\n",
    "print \"209 products are not salable and 295 are slable\"\n",
    "print \"_______________________________________________\"\n",
    "print \"Color and Number of products\"\n",
    "print data.Color.nunique()\n",
    "print data.Color.value_counts()\n",
    "print \"_______________________________________________\"\n",
    "print \"Minimum Inventory quantity\"\n",
    "print data.SafetyStockLevel.nunique()\n",
    "print data.SafetyStockLevel.value_counts()\n",
    "print \"With this I can infer that popular products have high invetory over less popular\"\n",
    "print \"________________________________________________\"\n",
    "print \"Inventory level that triggers a purchase order or work order.\"\n",
    "print data.ReorderPoint.nunique()\n",
    "print data.ReorderPoint.value_counts()\n",
    "\n",
    "print \"-------------------------------\"\n"
   ]
  },
  {
   "cell_type": "code",
   "execution_count": 8,
   "metadata": {
    "collapsed": false
   },
   "outputs": [
    {
     "name": "stdout",
     "output_type": "stream",
     "text": [
      "Most of the products where sold in the range of $0-$250\n"
     ]
    },
    {
     "data": {
      "image/png": "[encoded data removed]",
      "text/plain": [
       "<matplotlib.figure.Figure at 0x898a780>"
      ]
     },
     "metadata": {},
     "output_type": "display_data"
    }
   ],
   "source": [
    "import matplotlib.pyplot as plt\n",
    "%matplotlib inline\n",
    "plt.hist(data.StandardCost)\n",
    "print \"Most of the products where sold in the range of $0-$250\""
   ]
  },
  {
   "cell_type": "code",
   "execution_count": 9,
   "metadata": {
    "collapsed": false
   },
   "outputs": [
    {
     "name": "stdout",
     "output_type": "stream",
     "text": [
      "profit = Standard cost of the product(StandardCost) - Selling price(ListPrice)\n",
      "0.0\n",
      "-1487.8356\n",
      "*****  Products where sold at very low price than the standard cost *****\n",
      "May be as they are try to keep with the compitator, so they are selling a ceaper price\n"
     ]
    }
   ],
   "source": [
    "print \"profit = Standard cost of the product(StandardCost) - Selling price(ListPrice)\"\n",
    "data.Profit = data.StandardCost - data.ListPrice\n",
    "print max(data.Profit)\n",
    "print min(data.Profit)\n",
    "print \"*****  Products where sold at very low price than the standard cost *****\"\n",
    "print \"May be as they are try to keep with the compitator, so they are selling a ceaper price\""
   ]
  },
  {
   "cell_type": "code",
   "execution_count": 18,
   "metadata": {
    "collapsed": false
   },
   "outputs": [
    {
     "data": {
      "text/plain": [
       "(array([ 156.,    0.,    0.,    0.,  167.,    0.,    0.,   25.,    0.,  156.]),\n",
       " array([    4. ,   103.6,   203.2,   302.8,   402.4,   502. ,   601.6,\n",
       "          701.2,   800.8,   900.4,  1000. ]),\n",
       " <a list of 10 Patch objects>)"
      ]
     },
     "execution_count": 18,
     "metadata": {},
     "output_type": "execute_result"
    },
    {
     "data": {
      "image/png": "[encoded data removed]",
      "text/plain": [
       "<matplotlib.figure.Figure at 0xa9cf7b8>"
      ]
     },
     "metadata": {},
     "output_type": "display_data"
    }
   ],
   "source": [
    "plt.hist(data.SafetyStockLevel)"
   ]
  },
  {
   "cell_type": "code",
   "execution_count": 90,
   "metadata": {
    "collapsed": false
   },
   "outputs": [
    {
     "name": "stdout",
     "output_type": "stream",
     "text": [
      "All size products where sold\n",
      "44    29\n",
      "48    25\n",
      "52    16\n",
      "58    15\n",
      "42    15\n",
      "38    12\n",
      "46    11\n",
      "40    11\n",
      "60    11\n",
      "L     11\n",
      "M     11\n",
      "62    11\n",
      "54     9\n",
      "50     9\n",
      "S      9\n",
      "XL     3\n",
      "56     2\n",
      "70     1\n",
      "Name: Size, dtype: int64\n",
      "CM     328\n",
      "CM     176\n",
      "Name: SizeUnitMeasureCode, dtype: int64\n",
      "I assume all the sizes where measured in CM as a standard\n"
     ]
    },
    {
     "data": {
      "text/plain": [
       "CM    504\n",
       "Name: SizeUnitMeasureCode, dtype: int64"
      ]
     },
     "execution_count": 90,
     "metadata": {},
     "output_type": "execute_result"
    }
   ],
   "source": [
    "print \"All size products where sold\"\n",
    "print(data.Size.value_counts())\n",
    "print data.SizeUnitMeasureCode.value_counts()\n",
    "print \"I assume all the sizes where measured in CM as a standard\"\n",
    "data.SizeUnitMeasureCode = \"CM\"\n",
    "data.SizeUnitMeasureCode.value_counts()"
   ]
  },
  {
   "cell_type": "code",
   "execution_count": 91,
   "metadata": {
    "collapsed": false
   },
   "outputs": [
    {
     "data": {
      "text/plain": [
       "LB     176\n",
       "G       29\n",
       "Name: WeightUnitMeasureCode, dtype: int64"
      ]
     },
     "execution_count": 91,
     "metadata": {},
     "output_type": "execute_result"
    }
   ],
   "source": [
    "data.WeightUnitMeasureCode.value_counts()"
   ]
  },
  {
   "cell_type": "code",
   "execution_count": 93,
   "metadata": {
    "collapsed": false
   },
   "outputs": [
    {
     "data": {
      "text/plain": [
       "count     205.000000\n",
       "mean       74.069220\n",
       "std       182.166588\n",
       "min         2.120000\n",
       "25%         2.880000\n",
       "50%        17.900000\n",
       "75%        27.350000\n",
       "max      1050.000000\n",
       "Name: Weight, dtype: float64"
      ]
     },
     "execution_count": 93,
     "metadata": {},
     "output_type": "execute_result"
    }
   ],
   "source": [
    "data.Weight.describe()"
   ]
  },
  {
   "cell_type": "code",
   "execution_count": 142,
   "metadata": {
    "collapsed": false
   },
   "outputs": [
    {
     "name": "stdout",
     "output_type": "stream",
     "text": [
      "Some of the weight is measued in LB and some in grams\n",
      " We have standardize the data, so lets make everything in grams\n"
     ]
    }
   ],
   "source": [
    "print \"Some of the weight is measued in LB and some in grams\" \n",
    "print \" We have standardize the data, so lets make everything in grams\"\n",
    "data.Weight = np.where(data.WeightUnitMeasureCode == 'LB ', data.Weight * 453, data.Weight)"
   ]
  },
  {
   "cell_type": "code",
   "execution_count": 10,
   "metadata": {
    "collapsed": false
   },
   "outputs": [
    {
     "name": "stdout",
     "output_type": "stream",
     "text": [
      "Most of the products where manufactured in 1 day and they are assesories\n"
     ]
    },
    {
     "data": {
      "image/png": "[encoded data removed]",
      "text/plain": [
       "<matplotlib.figure.Figure at 0xa0d9b00>"
      ]
     },
     "metadata": {},
     "output_type": "display_data"
    }
   ],
   "source": [
    "plt.hist(data.DaysToManufacture)\n",
    "print \"Most of the products where manufactured in 1 day and they are assesories\""
   ]
  },
  {
   "cell_type": "code",
   "execution_count": 135,
   "metadata": {
    "collapsed": false
   },
   "outputs": [
    {
     "name": "stdout",
     "output_type": "stream",
     "text": [
      "Accessories are manufacture in 1 day, Bikes take maximum 4 days\n"
     ]
    },
    {
     "data": {
      "text/html": [
       "<div>\n",
       "<table border=\"1\" class=\"dataframe\">\n",
       "  <thead>\n",
       "    <tr style=\"text-align: right;\">\n",
       "      <th>DaysToManufacture</th>\n",
       "      <th>0</th>\n",
       "      <th>1</th>\n",
       "      <th>2</th>\n",
       "      <th>4</th>\n",
       "    </tr>\n",
       "    <tr>\n",
       "      <th>ProductCategory</th>\n",
       "      <th></th>\n",
       "      <th></th>\n",
       "      <th></th>\n",
       "      <th></th>\n",
       "    </tr>\n",
       "  </thead>\n",
       "  <tbody>\n",
       "    <tr>\n",
       "      <th>Accessories</th>\n",
       "      <td>29</td>\n",
       "      <td>0</td>\n",
       "      <td>0</td>\n",
       "      <td>0</td>\n",
       "    </tr>\n",
       "    <tr>\n",
       "      <th>Bikes</th>\n",
       "      <td>0</td>\n",
       "      <td>0</td>\n",
       "      <td>0</td>\n",
       "      <td>97</td>\n",
       "    </tr>\n",
       "    <tr>\n",
       "      <th>Clothing</th>\n",
       "      <td>35</td>\n",
       "      <td>0</td>\n",
       "      <td>0</td>\n",
       "      <td>0</td>\n",
       "    </tr>\n",
       "    <tr>\n",
       "      <th>Components</th>\n",
       "      <td>0</td>\n",
       "      <td>127</td>\n",
       "      <td>7</td>\n",
       "      <td>0</td>\n",
       "    </tr>\n",
       "  </tbody>\n",
       "</table>\n",
       "</div>"
      ],
      "text/plain": [
       "DaysToManufacture   0    1  2   4\n",
       "ProductCategory                  \n",
       "Accessories        29    0  0   0\n",
       "Bikes               0    0  0  97\n",
       "Clothing           35    0  0   0\n",
       "Components          0  127  7   0"
      ]
     },
     "execution_count": 135,
     "metadata": {},
     "output_type": "execute_result"
    }
   ],
   "source": [
    "print \"Accessories are manufacture in 1 day, Bikes take maximum 4 days\"\n",
    "pd.crosstab(data.ProductCategory,data.DaysToManufacture)"
   ]
  },
  {
   "cell_type": "code",
   "execution_count": 138,
   "metadata": {
    "collapsed": false
   },
   "outputs": [
    {
     "name": "stdout",
     "output_type": "stream",
     "text": [
      "R : Road,  M :Mountain,  T : Touring, S : Standard\n",
      "Most of the products are shipped using Road\n"
     ]
    },
    {
     "data": {
      "text/plain": [
       "R     100\n",
       "M      91\n",
       "T      52\n",
       "S      35\n",
       "Name: ProductLine, dtype: int64"
      ]
     },
     "execution_count": 138,
     "metadata": {},
     "output_type": "execute_result"
    }
   ],
   "source": [
    "print \"R : Road,  M :Mountain,  T : Touring, S : Standard\"\n",
    "print \"Most of the products are shipped using Road\" \n",
    "data.ProductLine.value_counts()"
   ]
  },
  {
   "cell_type": "code",
   "execution_count": 139,
   "metadata": {
    "collapsed": false
   },
   "outputs": [
    {
     "data": {
      "text/plain": [
       "L     97\n",
       "H     82\n",
       "M     68\n",
       "Name: Class, dtype: int64"
      ]
     },
     "execution_count": 139,
     "metadata": {},
     "output_type": "execute_result"
    }
   ],
   "source": [
    "data.Class.value_counts()"
   ]
  },
  {
   "cell_type": "code",
   "execution_count": 141,
   "metadata": {
    "collapsed": false
   },
   "outputs": [
    {
     "name": "stdout",
     "output_type": "stream",
     "text": [
      "Mens products are very less compared to women as this also includes assesories\n"
     ]
    },
    {
     "data": {
      "text/plain": [
       "U     176\n",
       "W      28\n",
       "M       7\n",
       "Name: Style, dtype: int64"
      ]
     },
     "execution_count": 141,
     "metadata": {},
     "output_type": "execute_result"
    }
   ],
   "source": [
    "print \"Mens products are very less compared to women as this also includes assesories\"\n",
    "print \"Most of the products are universal\"\n",
    "data.Style.value_counts()"
   ]
  },
  {
   "cell_type": "code",
   "execution_count": 13,
   "metadata": {
    "collapsed": false
   },
   "outputs": [
    {
     "name": "stdout",
     "output_type": "stream",
     "text": [
      "Their are 37 product sub-categories\n"
     ]
    },
    {
     "data": {
      "text/plain": [
       "38"
      ]
     },
     "execution_count": 13,
     "metadata": {},
     "output_type": "execute_result"
    }
   ],
   "source": [
    "print \"Their are 37 product sub-categories\"\n",
    "len(data.ProductSubcategoryID.unique())"
   ]
  },
  {
   "cell_type": "code",
   "execution_count": 16,
   "metadata": {
    "collapsed": false
   },
   "outputs": [
    {
     "name": "stdout",
     "output_type": "stream",
     "text": [
      "I assume the product id where assigned systametically and product id's between 750-800 have high price\n"
     ]
    },
    {
     "data": {
      "image/png": "[encoded data removed]",
      "text/plain": [
       "<matplotlib.figure.Figure at 0xa577710>"
      ]
     },
     "metadata": {},
     "output_type": "display_data"
    }
   ],
   "source": [
    "plt.scatter(data1.ProductID,data1.TotalUnitPrice)\n",
    "print \"I assume the product id where assigned systametically and product id's between 750-800 have high price\""
   ]
  },
  {
   "cell_type": "code",
   "execution_count": 158,
   "metadata": {
    "collapsed": false
   },
   "outputs": [
    {
     "name": "stdout",
     "output_type": "stream",
     "text": [
      "ProductID = 782, ProductNumber = BK-M68B-38\n",
      "Product name:Mountain-200 Black, 38    is the costliest product in the list\n"
     ]
    }
   ],
   "source": [
    "a = data.TotalUnitPrice.max()\n",
    "data1[data1.TotalUnitPrice == a]\n",
    "print \"ProductID = 782, ProductNumber = BK-M68B-38\"\n",
    "print \"Product name:Mountain-200 Black, 38    is the costliest product in the list\""
   ]
  },
  {
   "cell_type": "code",
   "execution_count": 17,
   "metadata": {
    "collapsed": false
   },
   "outputs": [
    {
     "data": {
      "text/plain": [
       "<matplotlib.collections.PathCollection at 0xa9b3b70>"
      ]
     },
     "execution_count": 17,
     "metadata": {},
     "output_type": "execute_result"
    },
    {
     "data": {
      "image/png": "[encoded data removed]",
      "text/plain": [
       "<matplotlib.figure.Figure at 0xa784860>"
      ]
     },
     "metadata": {},
     "output_type": "display_data"
    }
   ],
   "source": [
    "plt.scatter(data.ProductCategoryID,data.TotalUnitPrice)\n",
    "print \"Product category 1 are the most costly products.\"\n",
    "#data[data.ProductCategoryID == 1]"
   ]
  },
  {
   "cell_type": "code",
   "execution_count": 164,
   "metadata": {
    "collapsed": false
   },
   "outputs": [
    {
     "name": "stdout",
     "output_type": "stream",
     "text": [
      "ProductID: 762, ProductNumber: BK-R50R-44\n",
      "Product Name:  Road-650 Red, 44.   got the Maximum discount\n"
     ]
    }
   ],
   "source": [
    "a = data.TotalUnitPriceDiscount.max()\n",
    "data1[data1.TotalUnitPriceDiscount == a]\n",
    "print \"ProductID: 762, ProductNumber: BK-R50R-44\"\n",
    "print \"Product Name:  Road-650 Red, 44.   got the Maximum discount\""
   ]
  },
  {
   "cell_type": "code",
   "execution_count": 170,
   "metadata": {
    "collapsed": false
   },
   "outputs": [],
   "source": [
    "df = data.dropna(axis=0, how='any') "
   ]
  },
  {
   "cell_type": "code",
   "execution_count": 171,
   "metadata": {
    "collapsed": false
   },
   "outputs": [
    {
     "name": "stderr",
     "output_type": "stream",
     "text": [
      "C:\\Users\\kulka\\Anaconda2\\envs\\gl-env\\lib\\site-packages\\ipykernel\\__main__.py:5: SettingWithCopyWarning: \n",
      "A value is trying to be set on a copy of a slice from a DataFrame.\n",
      "Try using .loc[row_indexer,col_indexer] = value instead\n",
      "\n",
      "See the caveats in the documentation: http://pandas.pydata.org/pandas-docs/stable/indexing.html#indexing-view-versus-copy\n"
     ]
    }
   ],
   "source": [
    "from sklearn.preprocessing import LabelEncoder\n",
    "le = LabelEncoder()\n",
    "for i in df.columns:\n",
    "    if df[i].dtypes == 'object':\n",
    "        df[i] = le.fit_transform(df[i])"
   ]
  },
  {
   "cell_type": "code",
   "execution_count": 207,
   "metadata": {
    "collapsed": false
   },
   "outputs": [
    {
     "name": "stderr",
     "output_type": "stream",
     "text": [
      "C:\\Users\\kulka\\Anaconda2\\envs\\gl-env\\lib\\site-packages\\ipykernel\\__main__.py:6: SettingWithCopyWarning: \n",
      "A value is trying to be set on a copy of a slice from a DataFrame.\n",
      "Try using .loc[row_indexer,col_indexer] = value instead\n",
      "\n",
      "See the caveats in the documentation: http://pandas.pydata.org/pandas-docs/stable/indexing.html#indexing-view-versus-copy\n"
     ]
    },
    {
     "data": {
      "text/plain": [
       "0    63\n",
       "4    40\n",
       "3    34\n",
       "1    17\n",
       "2     6\n",
       "Name: cluster, dtype: int64"
      ]
     },
     "execution_count": 207,
     "metadata": {},
     "output_type": "execute_result"
    }
   ],
   "source": [
    "from sklearn.cluster import KMeans\n",
    "\n",
    "cluster = KMeans(n_clusters=5)\n",
    "# slice matrix so we only include the 0/1 indicator columns in the clustering\n",
    "clusters = cluster.fit_predict(df)\n",
    "df['cluster'] = clusters\n",
    "df.cluster.value_counts()"
   ]
  },
  {
   "cell_type": "code",
   "execution_count": 208,
   "metadata": {
    "collapsed": false
   },
   "outputs": [
    {
     "name": "stdout",
     "output_type": "stream",
     "text": [
      "Silhouette Score:\n"
     ]
    },
    {
     "data": {
      "text/plain": [
       "0.78504295047510375"
      ]
     },
     "execution_count": 208,
     "metadata": {},
     "output_type": "execute_result"
    }
   ],
   "source": [
    "from sklearn.metrics import silhouette_score\n",
    "ss = silhouette_score(df,clusters)\n",
    "print \"Silhouette Score:\"\n",
    "ss"
   ]
  },
  {
   "cell_type": "code",
   "execution_count": 220,
   "metadata": {
    "collapsed": false
   },
   "outputs": [],
   "source": [
    "import matplotlib.pyplot as plt\n",
    "%matplotlib inline "
   ]
  },
  {
   "cell_type": "code",
   "execution_count": 221,
   "metadata": {
    "collapsed": false
   },
   "outputs": [
    {
     "data": {
      "image/png": "[encoded data removed]",
      "text/plain": [
       "<matplotlib.figure.Figure at 0xdf43ac8>"
      ]
     },
     "metadata": {},
     "output_type": "display_data"
    }
   ],
   "source": [
    "colormap = np.array(['red', 'lime', 'black','blue','pink'])\n",
    "plt.scatter(df.ProductNumber,df.cluster,c=colormap[df.cluster], s=40)\n",
    "plt.show()"
   ]
  },
  {
   "cell_type": "code",
   "execution_count": null,
   "metadata": {
    "collapsed": true
   },
   "outputs": [],
   "source": []
  }
 ],
 "metadata": {
  "kernelspec": {
   "display_name": "Python 2",
   "language": "python",
   "name": "python2"
  },
  "language_info": {
   "codemirror_mode": {
    "name": "ipython",
    "version": 2
   },
   "file_extension": ".py",
   "mimetype": "text/x-python",
   "name": "python",
   "nbconvert_exporter": "python",
   "pygments_lexer": "ipython2",
   "version": "2.7.11"
  }
 },
 "nbformat": 4,
 "nbformat_minor": 0
}
